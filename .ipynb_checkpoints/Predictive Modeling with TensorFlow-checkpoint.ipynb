{
 "cells": [
  {
   "cell_type": "code",
   "execution_count": 1,
   "metadata": {},
   "outputs": [
    {
     "name": "stdout",
     "output_type": "stream",
     "text": [
      "Predictive Modeling with TensorFlow.ipynb\r\n",
      "README.md\r\n",
      "test_data.csv\r\n",
      "train_data.csv\r\n"
     ]
    }
   ],
   "source": [
    "ls"
   ]
  },
  {
   "cell_type": "code",
   "execution_count": 2,
   "metadata": {},
   "outputs": [],
   "source": [
    "import pandas as pd"
   ]
  },
  {
   "cell_type": "code",
   "execution_count": 3,
   "metadata": {},
   "outputs": [],
   "source": [
    "#importing data\n",
    "data_train = pd.read_csv('train_data.csv')"
   ]
  },
  {
   "cell_type": "code",
   "execution_count": 4,
   "metadata": {},
   "outputs": [
    {
     "name": "stdout",
     "output_type": "stream",
     "text": [
      "<class 'pandas.core.frame.DataFrame'>\n",
      "RangeIndex: 40000 entries, 0 to 39999\n",
      "Columns: 101 entries, x0 to y\n",
      "dtypes: float64(94), int64(1), object(6)\n",
      "memory usage: 30.8+ MB\n"
     ]
    }
   ],
   "source": [
    "#inspecting the data\n",
    "data_train.info()"
   ]
  },
  {
   "cell_type": "code",
   "execution_count": 5,
   "metadata": {},
   "outputs": [
    {
     "data": {
      "text/html": [
       "<div>\n",
       "<style scoped>\n",
       "    .dataframe tbody tr th:only-of-type {\n",
       "        vertical-align: middle;\n",
       "    }\n",
       "\n",
       "    .dataframe tbody tr th {\n",
       "        vertical-align: top;\n",
       "    }\n",
       "\n",
       "    .dataframe thead th {\n",
       "        text-align: right;\n",
       "    }\n",
       "</style>\n",
       "<table border=\"1\" class=\"dataframe\">\n",
       "  <thead>\n",
       "    <tr style=\"text-align: right;\">\n",
       "      <th></th>\n",
       "      <th>x0</th>\n",
       "      <th>x1</th>\n",
       "      <th>x2</th>\n",
       "      <th>x3</th>\n",
       "      <th>x4</th>\n",
       "      <th>x5</th>\n",
       "      <th>x6</th>\n",
       "      <th>x7</th>\n",
       "      <th>x8</th>\n",
       "      <th>x9</th>\n",
       "      <th>...</th>\n",
       "      <th>x91</th>\n",
       "      <th>x92</th>\n",
       "      <th>x93</th>\n",
       "      <th>x94</th>\n",
       "      <th>x95</th>\n",
       "      <th>x96</th>\n",
       "      <th>x97</th>\n",
       "      <th>x98</th>\n",
       "      <th>x99</th>\n",
       "      <th>y</th>\n",
       "    </tr>\n",
       "  </thead>\n",
       "  <tbody>\n",
       "    <tr>\n",
       "      <th>0</th>\n",
       "      <td>-17.933519</td>\n",
       "      <td>6.559220</td>\n",
       "      <td>2.422468</td>\n",
       "      <td>-27.737392</td>\n",
       "      <td>-12.080601</td>\n",
       "      <td>-3.892934</td>\n",
       "      <td>1.067466</td>\n",
       "      <td>0.935953</td>\n",
       "      <td>10.912007</td>\n",
       "      <td>1.107144</td>\n",
       "      <td>...</td>\n",
       "      <td>11.107047</td>\n",
       "      <td>0.093337</td>\n",
       "      <td>asia</td>\n",
       "      <td>0.421524</td>\n",
       "      <td>35.259947</td>\n",
       "      <td>8.994318</td>\n",
       "      <td>-21.000182</td>\n",
       "      <td>-0.686588</td>\n",
       "      <td>2.949106</td>\n",
       "      <td>1</td>\n",
       "    </tr>\n",
       "    <tr>\n",
       "      <th>1</th>\n",
       "      <td>-37.214754</td>\n",
       "      <td>10.774930</td>\n",
       "      <td>5.404072</td>\n",
       "      <td>21.354738</td>\n",
       "      <td>0.612690</td>\n",
       "      <td>-3.093533</td>\n",
       "      <td>6.161558</td>\n",
       "      <td>-0.972156</td>\n",
       "      <td>-5.222169</td>\n",
       "      <td>0.384969</td>\n",
       "      <td>...</td>\n",
       "      <td>-1.991846</td>\n",
       "      <td>15.666187</td>\n",
       "      <td>asia</td>\n",
       "      <td>-0.132764</td>\n",
       "      <td>-1.192563</td>\n",
       "      <td>3.885024</td>\n",
       "      <td>-37.886523</td>\n",
       "      <td>-7.730392</td>\n",
       "      <td>-1.107330</td>\n",
       "      <td>0</td>\n",
       "    </tr>\n",
       "    <tr>\n",
       "      <th>2</th>\n",
       "      <td>0.330441</td>\n",
       "      <td>-19.609972</td>\n",
       "      <td>-1.331804</td>\n",
       "      <td>-15.153892</td>\n",
       "      <td>19.710240</td>\n",
       "      <td>19.077300</td>\n",
       "      <td>-1.747110</td>\n",
       "      <td>0.545570</td>\n",
       "      <td>-1.464609</td>\n",
       "      <td>3.670570</td>\n",
       "      <td>...</td>\n",
       "      <td>17.132840</td>\n",
       "      <td>-5.333012</td>\n",
       "      <td>asia</td>\n",
       "      <td>1.432308</td>\n",
       "      <td>-3.435427</td>\n",
       "      <td>-1.133450</td>\n",
       "      <td>7.426099</td>\n",
       "      <td>-5.945534</td>\n",
       "      <td>1.316312</td>\n",
       "      <td>0</td>\n",
       "    </tr>\n",
       "    <tr>\n",
       "      <th>3</th>\n",
       "      <td>-13.709765</td>\n",
       "      <td>-8.011390</td>\n",
       "      <td>-1.536483</td>\n",
       "      <td>23.129497</td>\n",
       "      <td>27.880879</td>\n",
       "      <td>20.573991</td>\n",
       "      <td>-1.617689</td>\n",
       "      <td>4.129694</td>\n",
       "      <td>1.139928</td>\n",
       "      <td>2.912838</td>\n",
       "      <td>...</td>\n",
       "      <td>12.292136</td>\n",
       "      <td>4.177925</td>\n",
       "      <td>asia</td>\n",
       "      <td>0.733069</td>\n",
       "      <td>4.372964</td>\n",
       "      <td>15.529931</td>\n",
       "      <td>29.712153</td>\n",
       "      <td>2.240740</td>\n",
       "      <td>0.477195</td>\n",
       "      <td>0</td>\n",
       "    </tr>\n",
       "    <tr>\n",
       "      <th>4</th>\n",
       "      <td>-4.202598</td>\n",
       "      <td>7.076210</td>\n",
       "      <td>8.881550</td>\n",
       "      <td>23.600777</td>\n",
       "      <td>26.232164</td>\n",
       "      <td>-14.462320</td>\n",
       "      <td>3.231193</td>\n",
       "      <td>-0.069364</td>\n",
       "      <td>-7.310536</td>\n",
       "      <td>-2.268700</td>\n",
       "      <td>...</td>\n",
       "      <td>6.218743</td>\n",
       "      <td>8.715709</td>\n",
       "      <td>asia</td>\n",
       "      <td>-0.977502</td>\n",
       "      <td>-30.085932</td>\n",
       "      <td>-8.244312</td>\n",
       "      <td>66.540331</td>\n",
       "      <td>-3.478195</td>\n",
       "      <td>-2.869702</td>\n",
       "      <td>1</td>\n",
       "    </tr>\n",
       "    <tr>\n",
       "      <th>5</th>\n",
       "      <td>12.570277</td>\n",
       "      <td>2.543883</td>\n",
       "      <td>5.036511</td>\n",
       "      <td>18.275571</td>\n",
       "      <td>14.220732</td>\n",
       "      <td>4.636572</td>\n",
       "      <td>0.937568</td>\n",
       "      <td>-0.003774</td>\n",
       "      <td>-22.131515</td>\n",
       "      <td>-1.286908</td>\n",
       "      <td>...</td>\n",
       "      <td>-19.719070</td>\n",
       "      <td>4.091065</td>\n",
       "      <td>asia</td>\n",
       "      <td>1.346953</td>\n",
       "      <td>-9.178545</td>\n",
       "      <td>3.825094</td>\n",
       "      <td>63.287446</td>\n",
       "      <td>-8.466453</td>\n",
       "      <td>2.906964</td>\n",
       "      <td>1</td>\n",
       "    </tr>\n",
       "    <tr>\n",
       "      <th>6</th>\n",
       "      <td>17.949374</td>\n",
       "      <td>-35.406853</td>\n",
       "      <td>-1.512401</td>\n",
       "      <td>-16.078725</td>\n",
       "      <td>-20.764526</td>\n",
       "      <td>-3.572167</td>\n",
       "      <td>-2.242707</td>\n",
       "      <td>-0.549312</td>\n",
       "      <td>-17.441308</td>\n",
       "      <td>1.579038</td>\n",
       "      <td>...</td>\n",
       "      <td>-1.406200</td>\n",
       "      <td>2.717708</td>\n",
       "      <td>america</td>\n",
       "      <td>0.375733</td>\n",
       "      <td>36.025757</td>\n",
       "      <td>11.547920</td>\n",
       "      <td>-6.436465</td>\n",
       "      <td>-6.254732</td>\n",
       "      <td>0.310396</td>\n",
       "      <td>1</td>\n",
       "    </tr>\n",
       "    <tr>\n",
       "      <th>7</th>\n",
       "      <td>38.645268</td>\n",
       "      <td>-21.871066</td>\n",
       "      <td>1.403067</td>\n",
       "      <td>-33.789247</td>\n",
       "      <td>-32.782417</td>\n",
       "      <td>-24.145336</td>\n",
       "      <td>1.262729</td>\n",
       "      <td>2.211357</td>\n",
       "      <td>-10.415464</td>\n",
       "      <td>4.131179</td>\n",
       "      <td>...</td>\n",
       "      <td>0.912654</td>\n",
       "      <td>-6.677295</td>\n",
       "      <td>asia</td>\n",
       "      <td>-0.839062</td>\n",
       "      <td>47.847967</td>\n",
       "      <td>-10.193179</td>\n",
       "      <td>-17.249186</td>\n",
       "      <td>-6.728301</td>\n",
       "      <td>1.459517</td>\n",
       "      <td>0</td>\n",
       "    </tr>\n",
       "    <tr>\n",
       "      <th>8</th>\n",
       "      <td>35.279887</td>\n",
       "      <td>-2.004483</td>\n",
       "      <td>-5.289373</td>\n",
       "      <td>-17.174214</td>\n",
       "      <td>40.820339</td>\n",
       "      <td>18.575542</td>\n",
       "      <td>4.041897</td>\n",
       "      <td>-0.398773</td>\n",
       "      <td>-2.783833</td>\n",
       "      <td>-1.198740</td>\n",
       "      <td>...</td>\n",
       "      <td>-6.515815</td>\n",
       "      <td>-5.251498</td>\n",
       "      <td>asia</td>\n",
       "      <td>-0.818206</td>\n",
       "      <td>25.012517</td>\n",
       "      <td>-16.860639</td>\n",
       "      <td>25.835613</td>\n",
       "      <td>-2.345669</td>\n",
       "      <td>4.351302</td>\n",
       "      <td>0</td>\n",
       "    </tr>\n",
       "  </tbody>\n",
       "</table>\n",
       "<p>9 rows × 101 columns</p>\n",
       "</div>"
      ],
      "text/plain": [
       "          x0         x1        x2         x3         x4         x5        x6  \\\n",
       "0 -17.933519   6.559220  2.422468 -27.737392 -12.080601  -3.892934  1.067466   \n",
       "1 -37.214754  10.774930  5.404072  21.354738   0.612690  -3.093533  6.161558   \n",
       "2   0.330441 -19.609972 -1.331804 -15.153892  19.710240  19.077300 -1.747110   \n",
       "3 -13.709765  -8.011390 -1.536483  23.129497  27.880879  20.573991 -1.617689   \n",
       "4  -4.202598   7.076210  8.881550  23.600777  26.232164 -14.462320  3.231193   \n",
       "5  12.570277   2.543883  5.036511  18.275571  14.220732   4.636572  0.937568   \n",
       "6  17.949374 -35.406853 -1.512401 -16.078725 -20.764526  -3.572167 -2.242707   \n",
       "7  38.645268 -21.871066  1.403067 -33.789247 -32.782417 -24.145336  1.262729   \n",
       "8  35.279887  -2.004483 -5.289373 -17.174214  40.820339  18.575542  4.041897   \n",
       "\n",
       "         x7         x8        x9  ...        x91        x92      x93  \\\n",
       "0  0.935953  10.912007  1.107144  ...  11.107047   0.093337     asia   \n",
       "1 -0.972156  -5.222169  0.384969  ...  -1.991846  15.666187     asia   \n",
       "2  0.545570  -1.464609  3.670570  ...  17.132840  -5.333012     asia   \n",
       "3  4.129694   1.139928  2.912838  ...  12.292136   4.177925     asia   \n",
       "4 -0.069364  -7.310536 -2.268700  ...   6.218743   8.715709     asia   \n",
       "5 -0.003774 -22.131515 -1.286908  ... -19.719070   4.091065     asia   \n",
       "6 -0.549312 -17.441308  1.579038  ...  -1.406200   2.717708  america   \n",
       "7  2.211357 -10.415464  4.131179  ...   0.912654  -6.677295     asia   \n",
       "8 -0.398773  -2.783833 -1.198740  ...  -6.515815  -5.251498     asia   \n",
       "\n",
       "        x94        x95        x96        x97       x98       x99  y  \n",
       "0  0.421524  35.259947   8.994318 -21.000182 -0.686588  2.949106  1  \n",
       "1 -0.132764  -1.192563   3.885024 -37.886523 -7.730392 -1.107330  0  \n",
       "2  1.432308  -3.435427  -1.133450   7.426099 -5.945534  1.316312  0  \n",
       "3  0.733069   4.372964  15.529931  29.712153  2.240740  0.477195  0  \n",
       "4 -0.977502 -30.085932  -8.244312  66.540331 -3.478195 -2.869702  1  \n",
       "5  1.346953  -9.178545   3.825094  63.287446 -8.466453  2.906964  1  \n",
       "6  0.375733  36.025757  11.547920  -6.436465 -6.254732  0.310396  1  \n",
       "7 -0.839062  47.847967 -10.193179 -17.249186 -6.728301  1.459517  0  \n",
       "8 -0.818206  25.012517 -16.860639  25.835613 -2.345669  4.351302  0  \n",
       "\n",
       "[9 rows x 101 columns]"
      ]
     },
     "execution_count": 5,
     "metadata": {},
     "output_type": "execute_result"
    }
   ],
   "source": [
    "data_train.head(9)"
   ]
  },
  {
   "cell_type": "code",
   "execution_count": 8,
   "metadata": {},
   "outputs": [
    {
     "data": {
      "text/html": [
       "<div>\n",
       "<style scoped>\n",
       "    .dataframe tbody tr th:only-of-type {\n",
       "        vertical-align: middle;\n",
       "    }\n",
       "\n",
       "    .dataframe tbody tr th {\n",
       "        vertical-align: top;\n",
       "    }\n",
       "\n",
       "    .dataframe thead th {\n",
       "        text-align: right;\n",
       "    }\n",
       "</style>\n",
       "<table border=\"1\" class=\"dataframe\">\n",
       "  <thead>\n",
       "    <tr style=\"text-align: right;\">\n",
       "      <th></th>\n",
       "      <th>count</th>\n",
       "      <th>mean</th>\n",
       "      <th>std</th>\n",
       "      <th>min</th>\n",
       "      <th>25%</th>\n",
       "      <th>50%</th>\n",
       "      <th>75%</th>\n",
       "      <th>max</th>\n",
       "    </tr>\n",
       "  </thead>\n",
       "  <tbody>\n",
       "    <tr>\n",
       "      <th>x0</th>\n",
       "      <td>39989.0</td>\n",
       "      <td>6.159970</td>\n",
       "      <td>29.098537</td>\n",
       "      <td>-106.809919</td>\n",
       "      <td>-13.617383</td>\n",
       "      <td>6.247370</td>\n",
       "      <td>25.570242</td>\n",
       "      <td>134.592465</td>\n",
       "    </tr>\n",
       "    <tr>\n",
       "      <th>x1</th>\n",
       "      <td>39989.0</td>\n",
       "      <td>-3.568111</td>\n",
       "      <td>17.186748</td>\n",
       "      <td>-72.864290</td>\n",
       "      <td>-15.148354</td>\n",
       "      <td>-3.660536</td>\n",
       "      <td>7.807474</td>\n",
       "      <td>71.071223</td>\n",
       "    </tr>\n",
       "    <tr>\n",
       "      <th>x2</th>\n",
       "      <td>39993.0</td>\n",
       "      <td>0.223336</td>\n",
       "      <td>5.237987</td>\n",
       "      <td>-21.508799</td>\n",
       "      <td>-3.295204</td>\n",
       "      <td>0.264994</td>\n",
       "      <td>3.761013</td>\n",
       "      <td>21.060130</td>\n",
       "    </tr>\n",
       "    <tr>\n",
       "      <th>x3</th>\n",
       "      <td>39991.0</td>\n",
       "      <td>-1.742588</td>\n",
       "      <td>36.601044</td>\n",
       "      <td>-157.569819</td>\n",
       "      <td>-26.465502</td>\n",
       "      <td>-1.638876</td>\n",
       "      <td>23.044686</td>\n",
       "      <td>145.566756</td>\n",
       "    </tr>\n",
       "    <tr>\n",
       "      <th>x4</th>\n",
       "      <td>39992.0</td>\n",
       "      <td>0.079437</td>\n",
       "      <td>21.179065</td>\n",
       "      <td>-79.900790</td>\n",
       "      <td>-14.215354</td>\n",
       "      <td>0.113879</td>\n",
       "      <td>14.365631</td>\n",
       "      <td>89.856546</td>\n",
       "    </tr>\n",
       "    <tr>\n",
       "      <th>x5</th>\n",
       "      <td>39989.0</td>\n",
       "      <td>-0.535399</td>\n",
       "      <td>13.602122</td>\n",
       "      <td>-55.050043</td>\n",
       "      <td>-9.771613</td>\n",
       "      <td>-0.530463</td>\n",
       "      <td>8.673525</td>\n",
       "      <td>52.628375</td>\n",
       "    </tr>\n",
       "    <tr>\n",
       "      <th>x6</th>\n",
       "      <td>39993.0</td>\n",
       "      <td>0.015483</td>\n",
       "      <td>4.110412</td>\n",
       "      <td>-15.955862</td>\n",
       "      <td>-2.770450</td>\n",
       "      <td>0.015259</td>\n",
       "      <td>2.770460</td>\n",
       "      <td>18.546313</td>\n",
       "    </tr>\n",
       "    <tr>\n",
       "      <th>x7</th>\n",
       "      <td>39988.0</td>\n",
       "      <td>-0.011955</td>\n",
       "      <td>2.423051</td>\n",
       "      <td>-9.299563</td>\n",
       "      <td>-1.644516</td>\n",
       "      <td>-0.002569</td>\n",
       "      <td>1.621142</td>\n",
       "      <td>11.919020</td>\n",
       "    </tr>\n",
       "    <tr>\n",
       "      <th>x8</th>\n",
       "      <td>39996.0</td>\n",
       "      <td>-3.055506</td>\n",
       "      <td>13.450495</td>\n",
       "      <td>-54.415601</td>\n",
       "      <td>-12.055884</td>\n",
       "      <td>-3.069374</td>\n",
       "      <td>5.910663</td>\n",
       "      <td>54.262047</td>\n",
       "    </tr>\n",
       "  </tbody>\n",
       "</table>\n",
       "</div>"
      ],
      "text/plain": [
       "      count      mean        std         min        25%       50%        75%  \\\n",
       "x0  39989.0  6.159970  29.098537 -106.809919 -13.617383  6.247370  25.570242   \n",
       "x1  39989.0 -3.568111  17.186748  -72.864290 -15.148354 -3.660536   7.807474   \n",
       "x2  39993.0  0.223336   5.237987  -21.508799  -3.295204  0.264994   3.761013   \n",
       "x3  39991.0 -1.742588  36.601044 -157.569819 -26.465502 -1.638876  23.044686   \n",
       "x4  39992.0  0.079437  21.179065  -79.900790 -14.215354  0.113879  14.365631   \n",
       "x5  39989.0 -0.535399  13.602122  -55.050043  -9.771613 -0.530463   8.673525   \n",
       "x6  39993.0  0.015483   4.110412  -15.955862  -2.770450  0.015259   2.770460   \n",
       "x7  39988.0 -0.011955   2.423051   -9.299563  -1.644516 -0.002569   1.621142   \n",
       "x8  39996.0 -3.055506  13.450495  -54.415601 -12.055884 -3.069374   5.910663   \n",
       "\n",
       "           max  \n",
       "x0  134.592465  \n",
       "x1   71.071223  \n",
       "x2   21.060130  \n",
       "x3  145.566756  \n",
       "x4   89.856546  \n",
       "x5   52.628375  \n",
       "x6   18.546313  \n",
       "x7   11.919020  \n",
       "x8   54.262047  "
      ]
     },
     "execution_count": 8,
     "metadata": {},
     "output_type": "execute_result"
    }
   ],
   "source": [
    "data_train.describe().transpose().head(9)"
   ]
  },
  {
   "cell_type": "code",
   "execution_count": 9,
   "metadata": {},
   "outputs": [
    {
     "data": {
      "text/plain": [
       "(40000, 101)"
      ]
     },
     "execution_count": 9,
     "metadata": {},
     "output_type": "execute_result"
    }
   ],
   "source": [
    "data_train.shape"
   ]
  },
  {
   "cell_type": "code",
   "execution_count": 11,
   "metadata": {},
   "outputs": [
    {
     "data": {
      "text/plain": [
       "NaN           11\n",
       "-35.799397     1\n",
       "-25.566337     1\n",
       "-48.719831     1\n",
       " 23.681229     1\n",
       "-10.686202     1\n",
       "-22.351176     1\n",
       " 5.348358      1\n",
       "-36.243609     1\n",
       "Name: x0, dtype: int64"
      ]
     },
     "execution_count": 11,
     "metadata": {},
     "output_type": "execute_result"
    }
   ],
   "source": [
    "data_train.x0.value_counts(dropna=False).head(9)"
   ]
  },
  {
   "cell_type": "code",
   "execution_count": 12,
   "metadata": {},
   "outputs": [],
   "source": [
    "#there is NaN value, needed to be taken care of"
   ]
  },
  {
   "cell_type": "code",
   "execution_count": 13,
   "metadata": {},
   "outputs": [],
   "source": [
    "import matplotlib.pyplot as plt"
   ]
  },
  {
   "cell_type": "code",
   "execution_count": 15,
   "metadata": {},
   "outputs": [
    {
     "data": {
      "text/plain": [
       "float64    94\n",
       "object      6\n",
       "int64       1\n",
       "dtype: int64"
      ]
     },
     "execution_count": 15,
     "metadata": {},
     "output_type": "execute_result"
    }
   ],
   "source": [
    "data_train.dtypes.value_counts()"
   ]
  },
  {
   "cell_type": "code",
   "execution_count": 17,
   "metadata": {
    "scrolled": true
   },
   "outputs": [
    {
     "data": {
      "text/plain": [
       "<matplotlib.axes._subplots.AxesSubplot at 0x12442f898>"
      ]
     },
     "execution_count": 17,
     "metadata": {},
     "output_type": "execute_result"
    },
    {
     "data": {
      "image/png": "[encoded data removed]",
      "text/plain": [
       "<Figure size 432x288 with 1 Axes>"
      ]
     },
     "metadata": {
      "needs_background": "light"
     },
     "output_type": "display_data"
    }
   ],
   "source": [
    "data_train[['x0']].boxplot()"
   ]
  },
  {
   "cell_type": "code",
   "execution_count": 18,
   "metadata": {},
   "outputs": [
    {
     "data": {
      "text/html": [
       "<div>\n",
       "<style scoped>\n",
       "    .dataframe tbody tr th:only-of-type {\n",
       "        vertical-align: middle;\n",
       "    }\n",
       "\n",
       "    .dataframe tbody tr th {\n",
       "        vertical-align: top;\n",
       "    }\n",
       "\n",
       "    .dataframe thead th {\n",
       "        text-align: right;\n",
       "    }\n",
       "</style>\n",
       "<table border=\"1\" class=\"dataframe\">\n",
       "  <thead>\n",
       "    <tr style=\"text-align: right;\">\n",
       "      <th></th>\n",
       "      <th>x34</th>\n",
       "      <th>x35</th>\n",
       "      <th>x41</th>\n",
       "      <th>x45</th>\n",
       "      <th>x68</th>\n",
       "      <th>x93</th>\n",
       "    </tr>\n",
       "  </thead>\n",
       "  <tbody>\n",
       "    <tr>\n",
       "      <th>0</th>\n",
       "      <td>bmw</td>\n",
       "      <td>thur</td>\n",
       "      <td>$-1306.52</td>\n",
       "      <td>-0.01%</td>\n",
       "      <td>sept.</td>\n",
       "      <td>asia</td>\n",
       "    </tr>\n",
       "    <tr>\n",
       "      <th>1</th>\n",
       "      <td>Toyota</td>\n",
       "      <td>wednesday</td>\n",
       "      <td>$-24.86</td>\n",
       "      <td>0.0%</td>\n",
       "      <td>July</td>\n",
       "      <td>asia</td>\n",
       "    </tr>\n",
       "    <tr>\n",
       "      <th>2</th>\n",
       "      <td>bmw</td>\n",
       "      <td>thurday</td>\n",
       "      <td>$-110.85</td>\n",
       "      <td>0.0%</td>\n",
       "      <td>July</td>\n",
       "      <td>asia</td>\n",
       "    </tr>\n",
       "    <tr>\n",
       "      <th>3</th>\n",
       "      <td>Toyota</td>\n",
       "      <td>wed</td>\n",
       "      <td>$-324.43</td>\n",
       "      <td>0.01%</td>\n",
       "      <td>Apr</td>\n",
       "      <td>asia</td>\n",
       "    </tr>\n",
       "    <tr>\n",
       "      <th>4</th>\n",
       "      <td>Toyota</td>\n",
       "      <td>wednesday</td>\n",
       "      <td>$1213.37</td>\n",
       "      <td>-0.01%</td>\n",
       "      <td>Aug</td>\n",
       "      <td>asia</td>\n",
       "    </tr>\n",
       "  </tbody>\n",
       "</table>\n",
       "</div>"
      ],
      "text/plain": [
       "      x34        x35        x41     x45    x68   x93\n",
       "0     bmw       thur  $-1306.52  -0.01%  sept.  asia\n",
       "1  Toyota  wednesday    $-24.86    0.0%   July  asia\n",
       "2     bmw    thurday   $-110.85    0.0%   July  asia\n",
       "3  Toyota        wed   $-324.43   0.01%    Apr  asia\n",
       "4  Toyota  wednesday   $1213.37  -0.01%    Aug  asia"
      ]
     },
     "execution_count": 18,
     "metadata": {},
     "output_type": "execute_result"
    }
   ],
   "source": [
    "data_train.select_dtypes(include=object).head()"
   ]
  },
  {
   "cell_type": "code",
   "execution_count": 19,
   "metadata": {},
   "outputs": [],
   "source": [
    "# possibly every column have NaN values, but let us first focus on object type of columns"
   ]
  },
  {
   "cell_type": "code",
   "execution_count": 20,
   "metadata": {},
   "outputs": [],
   "source": [
    "# let us remove to $ sign on x41 and % sign on x45 column"
   ]
  },
  {
   "cell_type": "code",
   "execution_count": 21,
   "metadata": {},
   "outputs": [],
   "source": [
    "# then change the type of the column as float from object"
   ]
  },
  {
   "cell_type": "code",
   "execution_count": 23,
   "metadata": {},
   "outputs": [],
   "source": [
    "data_train.x41 = data_train.x41.str.replace('$','')\n",
    "data_train.x41 = data_train.x41.astype(float)"
   ]
  },
  {
   "cell_type": "code",
   "execution_count": 24,
   "metadata": {},
   "outputs": [],
   "source": [
    "data_train.x45 = data_train.x45.str.replace('%','')\n",
    "data_train.x45 = data_train.x45.astype(float)"
   ]
  },
  {
   "cell_type": "code",
   "execution_count": 25,
   "metadata": {},
   "outputs": [
    {
     "data": {
      "text/html": [
       "<div>\n",
       "<style scoped>\n",
       "    .dataframe tbody tr th:only-of-type {\n",
       "        vertical-align: middle;\n",
       "    }\n",
       "\n",
       "    .dataframe tbody tr th {\n",
       "        vertical-align: top;\n",
       "    }\n",
       "\n",
       "    .dataframe thead th {\n",
       "        text-align: right;\n",
       "    }\n",
       "</style>\n",
       "<table border=\"1\" class=\"dataframe\">\n",
       "  <thead>\n",
       "    <tr style=\"text-align: right;\">\n",
       "      <th></th>\n",
       "      <th>x34</th>\n",
       "      <th>x35</th>\n",
       "      <th>x68</th>\n",
       "      <th>x93</th>\n",
       "    </tr>\n",
       "  </thead>\n",
       "  <tbody>\n",
       "    <tr>\n",
       "      <th>0</th>\n",
       "      <td>bmw</td>\n",
       "      <td>thur</td>\n",
       "      <td>sept.</td>\n",
       "      <td>asia</td>\n",
       "    </tr>\n",
       "    <tr>\n",
       "      <th>1</th>\n",
       "      <td>Toyota</td>\n",
       "      <td>wednesday</td>\n",
       "      <td>July</td>\n",
       "      <td>asia</td>\n",
       "    </tr>\n",
       "    <tr>\n",
       "      <th>2</th>\n",
       "      <td>bmw</td>\n",
       "      <td>thurday</td>\n",
       "      <td>July</td>\n",
       "      <td>asia</td>\n",
       "    </tr>\n",
       "    <tr>\n",
       "      <th>3</th>\n",
       "      <td>Toyota</td>\n",
       "      <td>wed</td>\n",
       "      <td>Apr</td>\n",
       "      <td>asia</td>\n",
       "    </tr>\n",
       "    <tr>\n",
       "      <th>4</th>\n",
       "      <td>Toyota</td>\n",
       "      <td>wednesday</td>\n",
       "      <td>Aug</td>\n",
       "      <td>asia</td>\n",
       "    </tr>\n",
       "  </tbody>\n",
       "</table>\n",
       "</div>"
      ],
      "text/plain": [
       "      x34        x35    x68   x93\n",
       "0     bmw       thur  sept.  asia\n",
       "1  Toyota  wednesday   July  asia\n",
       "2     bmw    thurday   July  asia\n",
       "3  Toyota        wed    Apr  asia\n",
       "4  Toyota  wednesday    Aug  asia"
      ]
     },
     "execution_count": 25,
     "metadata": {},
     "output_type": "execute_result"
    }
   ],
   "source": [
    "# double check\n",
    "data_train.select_dtypes(include=object).head()"
   ]
  },
  {
   "cell_type": "code",
   "execution_count": 26,
   "metadata": {},
   "outputs": [
    {
     "data": {
      "text/plain": [
       "array(['bmw', 'Toyota', 'tesla', 'chrystler', 'volkswagon', 'Honda',\n",
       "       'nissan', 'ford', 'mercades', 'chevrolet', nan], dtype=object)"
      ]
     },
     "execution_count": 26,
     "metadata": {},
     "output_type": "execute_result"
    }
   ],
   "source": [
    "# inspecting remaining object columns\n",
    "data_train.x34.unique()"
   ]
  },
  {
   "cell_type": "code",
   "execution_count": 27,
   "metadata": {},
   "outputs": [],
   "source": [
    "#x34 column seems ok, except NaN values, I will take care of all together, later on."
   ]
  },
  {
   "cell_type": "code",
   "execution_count": 28,
   "metadata": {},
   "outputs": [
    {
     "data": {
      "text/plain": [
       "array(['thur', 'wednesday', 'thurday', 'wed', 'tuesday', 'friday', 'fri',\n",
       "       'monday', nan], dtype=object)"
      ]
     },
     "execution_count": 28,
     "metadata": {},
     "output_type": "execute_result"
    }
   ],
   "source": [
    "data_train.x35.unique()"
   ]
  },
  {
   "cell_type": "code",
   "execution_count": 29,
   "metadata": {},
   "outputs": [],
   "source": [
    "#there are mis labels in x35 such as 'wednesday' and 'wed'\n",
    "#takingcare of mislabels in column\n",
    "data_train.x35 = data_train.x35.str.replace('wednesday','wed')\n",
    "data_train.x35 = data_train.x35.str.replace('thurday','thur')\n",
    "data_train.x35 = data_train.x35.str.replace('friday','fri')"
   ]
  },
  {
   "cell_type": "code",
   "execution_count": 30,
   "metadata": {},
   "outputs": [],
   "source": [
    "# keep inspecting by column x68"
   ]
  },
  {
   "cell_type": "code",
   "execution_count": 31,
   "metadata": {},
   "outputs": [
    {
     "data": {
      "text/plain": [
       "array(['sept.', 'July', 'Apr', 'Aug', 'May', 'Jun', 'Mar', 'Oct', 'Nov',\n",
       "       'Feb', 'Dev', nan, 'January'], dtype=object)"
      ]
     },
     "execution_count": 31,
     "metadata": {},
     "output_type": "execute_result"
    }
   ],
   "source": [
    "data_train.x68.unique()"
   ]
  },
  {
   "cell_type": "code",
   "execution_count": 32,
   "metadata": {},
   "outputs": [],
   "source": [
    "#x68 column seems ok, except NaN values, I will take care of all together, later on."
   ]
  },
  {
   "cell_type": "code",
   "execution_count": 33,
   "metadata": {},
   "outputs": [
    {
     "data": {
      "text/plain": [
       "array(['asia', 'america', 'euorpe', nan], dtype=object)"
      ]
     },
     "execution_count": 33,
     "metadata": {},
     "output_type": "execute_result"
    }
   ],
   "source": [
    "data_train.x93.unique()"
   ]
  },
  {
   "cell_type": "code",
   "execution_count": 34,
   "metadata": {},
   "outputs": [],
   "source": [
    "#x93 column seems ok, except NaN values, I will take care of all together, later on."
   ]
  },
  {
   "cell_type": "code",
   "execution_count": null,
   "metadata": {},
   "outputs": [],
   "source": []
  }
 ],
 "metadata": {
  "kernelspec": {
   "display_name": "Python 3",
   "language": "python",
   "name": "python3"
  },
  "language_info": {
   "codemirror_mode": {
    "name": "ipython",
    "version": 3
   },
   "file_extension": ".py",
   "mimetype": "text/x-python",
   "name": "python",
   "nbconvert_exporter": "python",
   "pygments_lexer": "ipython3",
   "version": "3.6.7"
  }
 },
 "nbformat": 4,
 "nbformat_minor": 2
}
